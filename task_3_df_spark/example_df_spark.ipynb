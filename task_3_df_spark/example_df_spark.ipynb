{
 "cells": [
  {
   "cell_type": "code",
   "execution_count": 7,
   "id": "b70ac399",
   "metadata": {},
   "outputs": [],
   "source": [
    "from pyspark.sql import SparkSession\n",
    "import os\n",
    "from df_spark import get_product_category_pairs_and_uncategorized\n",
    "\n",
    "os.environ[\"PYSPARK_PYTHON\"] = \"python\""
   ]
  },
  {
   "cell_type": "code",
   "execution_count": 8,
   "id": "f4748cc1",
   "metadata": {},
   "outputs": [],
   "source": [
    "# Инициализируем Spark сессию\n",
    "spark = SparkSession.builder.appName(\"ProductCategoryPairs\").getOrCreate()"
   ]
  },
  {
   "cell_type": "code",
   "execution_count": 9,
   "id": "8e3fb90f",
   "metadata": {},
   "outputs": [],
   "source": [
    "# 1. Создание исходных датафреймов\n",
    "products_data = [\n",
    "    (1, \"Laptop\"),\n",
    "    (2, \"Smartphone\"),\n",
    "    (3, \"Headphones\"),\n",
    "    (4, \"Mouse\"),\n",
    "]\n",
    "products_df = spark.createDataFrame(products_data, [\"product_id\", \"product_name\"])\n",
    "\n",
    "categories_data = [\n",
    "    (101, \"Electronics\"),\n",
    "    (102, \"Computers\"),\n",
    "    (103, \"Accessories\"),\n",
    "]\n",
    "categories_df = spark.createDataFrame(categories_data, [\"category_id\", \"category_name\"])\n",
    "\n",
    "product_category_links_data = [\n",
    "    (1, 101),  # Laptop -> Electronics\n",
    "    (1, 102),  # Laptop -> Computers\n",
    "    (2, 101),  # Smartphone -> Electronics\n",
    "    (3, 103),  # Headphones -> Accessories\n",
    "]\n",
    "product_category_links_df = spark.createDataFrame(\n",
    "    product_category_links_data, [\"product_id\", \"category_id\"]\n",
    ")"
   ]
  },
  {
   "cell_type": "code",
   "execution_count": null,
   "id": "91114749",
   "metadata": {},
   "outputs": [],
   "source": [
    "# 2. Вызов метода\n",
    "result_df = get_product_category_pairs_and_uncategorized(\n",
    "    products_df, categories_df, product_category_links_df\n",
    ")"
   ]
  },
  {
   "cell_type": "code",
   "execution_count": null,
   "id": "ea553b00",
   "metadata": {},
   "outputs": [],
   "source": [
    "# Вывод результата\n",
    "print(\"Результат:\")\n",
    "result_df.show()"
   ]
  },
  {
   "cell_type": "code",
   "execution_count": null,
   "id": "e4404ad7",
   "metadata": {},
   "outputs": [],
   "source": [
    "# Проверка схемы\n",
    "result_df.printSchema()"
   ]
  }
 ],
 "metadata": {
  "kernelspec": {
   "display_name": ".venv",
   "language": "python",
   "name": "python3"
  },
  "language_info": {
   "codemirror_mode": {
    "name": "ipython",
    "version": 3
   },
   "file_extension": ".py",
   "mimetype": "text/x-python",
   "name": "python",
   "nbconvert_exporter": "python",
   "pygments_lexer": "ipython3",
   "version": "3.12.4"
  }
 },
 "nbformat": 4,
 "nbformat_minor": 5
}
